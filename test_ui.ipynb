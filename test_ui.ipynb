{
 "cells": [
  {
   "cell_type": "code",
   "execution_count": 9,
   "metadata": {},
   "outputs": [
    {
     "name": "stdout",
     "output_type": "stream",
     "text": [
      "[I 08:50:46 flexx.app] Exported standalone app to 'c:\\\\Users\\\\xipen\\\\Documents\\\\GitHub\\\\myfirst\\\\example.html'\n"
     ]
    }
   ],
   "source": [
    "from flexx import flx\n",
    "\n",
    "class Example(flx.Widget):\n",
    "\n",
    "    def init(self):\n",
    "        flx.Button(text='hello')\n",
    "        flx.Button(text='world')\n",
    "app = flx.App(Example)\n",
    "app.export('example.html', link=0)  # Export to single file"
   ]
  },
  {
   "cell_type": "code",
   "execution_count": 1,
   "metadata": {},
   "outputs": [],
   "source": [
    "import pandas as pd"
   ]
  },
  {
   "cell_type": "code",
   "execution_count": null,
   "metadata": {},
   "outputs": [],
   "source": []
  }
 ],
 "metadata": {
  "kernelspec": {
   "display_name": "Python 3",
   "language": "python",
   "name": "python3"
  },
  "language_info": {
   "codemirror_mode": {
    "name": "ipython",
    "version": 3
   },
   "file_extension": ".py",
   "mimetype": "text/x-python",
   "name": "python",
   "nbconvert_exporter": "python",
   "pygments_lexer": "ipython3",
   "version": "3.11.9"
  }
 },
 "nbformat": 4,
 "nbformat_minor": 2
}
